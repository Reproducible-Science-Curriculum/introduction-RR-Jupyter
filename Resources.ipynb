{
 "cells": [
  {
   "cell_type": "markdown",
   "metadata": {},
   "source": [
    "### There are many resource for `Jupyter Notebooks` and `Python`\n",
    "---"
   ]
  },
  {
   "cell_type": "markdown",
   "metadata": {},
   "source": [
    "#### `Project Jupyter`\n",
    "\n",
    "- `Project Jupyter` [Homepage](http://jupyter.org/)\n",
    "- `Project Jupyter` [Google group](https://groups.google.com/forum/#!forum/jupyter)\n",
    "- `Jupyter` [documentation](https://jupyter.readthedocs.io/en/latest/)\n",
    "- [GitHub](https://github.com/jupyter/help)\n",
    "- Free `Project Jupyter` tutorials:\n",
    "    - [Readthedocs](https://jupyter-notebook-beginner-guide.readthedocs.io/en/latest/)\n",
    "    - [YouTube](https://www.youtube.com/watch?v=Rc4JQWowG5I)"
   ]
  },
  {
   "cell_type": "markdown",
   "metadata": {},
   "source": [
    "#### `Python`\n",
    "\n",
    "- [`Python`](https://www.python.org/)\n",
    "- `Python` [documentation](https://docs.python.org/3/)\n",
    "- `Python` [Google group](https://groups.google.com/forum/#!forum/comp.lang.python) - Note, there are many!\n",
    "- [Stack Overflow](http://stackoverflow.com/questions/tagged/python)\n",
    "- `Python` [Help](https://www.python.org/about/help/)\n",
    "- Free `Python` tutorials:\n",
    "    - [Google's Python tutorial](https://developers.google.com/edu/python/)\n",
    "    - [Data Camp](https://www.datacamp.com/)",
    "    - [BIDs Python Boot Camp](https://bids.berkeley.edu/events/python-boot-camp-fall-2016/)"
   ]
  }
 ],
 "metadata": {
  "kernelspec": {
   "display_name": "Python 3",
   "language": "python",
   "name": "python3"
  },
  "language_info": {
   "codemirror_mode": {
    "name": "ipython",
    "version": 3
   },
   "file_extension": ".py",
   "mimetype": "text/x-python",
   "name": "python",
   "nbconvert_exporter": "python",
   "pygments_lexer": "ipython3",
   "version": "3.6.0"
  }
 },
 "nbformat": 4,
 "nbformat_minor": 2
}

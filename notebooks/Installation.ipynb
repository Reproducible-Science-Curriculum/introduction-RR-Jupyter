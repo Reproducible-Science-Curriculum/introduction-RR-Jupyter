{
 "cells": [
  {
   "cell_type": "markdown",
   "metadata": {},
   "source": [
    "### Installing `Python`\n",
    "---"
   ]
  },
  {
   "cell_type": "markdown",
   "metadata": {},
   "source": [
    "[`Python`](http://python.org/) is a popular language for research computing, and great for general-purpose programming as well. Installing all of its research packages individually can be a bit difficult, so we recommend [Anaconda](https://www.continuum.io/anaconda), an all-in-one installer."
   ]
  },
  {
   "cell_type": "markdown",
   "metadata": {},
   "source": [
    "Regardless of how you choose to install it, please make sure you install **Python version 3.x** (e.g., 3.4 is fine).\n",
    "\n",
    "We will teach `Python` using the [`Jupyter Notebook`](http://jupyter.org/), a programming environment that runs in a web browser. For this to work you will need a reasonably up-to-date browser. The current versions of the Chrome, Safari and Firefox browsers are all supported (some older browsers, including Internet Explorer version 9 and below, are not).\n",
    "\n",
    "---"
   ]
  },
  {
   "cell_type": "markdown",
   "metadata": {},
   "source": [
    "### Windows\n",
    "\n",
    "[Video tutorial](https://www.youtube.com/watch?v=xxQ0mzZ8UvA)\n",
    "\n",
    "1. Open http://continuum.io/downloads with your web browser.\n",
    "1. Download the `Python 3` installer for Windows.\n",
    "1. Install `Python 3` using all of the defaults for installation except make sure to check **Make Anaconda the default Python**.\n",
    "\n",
    "---"
   ]
  },
  {
   "cell_type": "markdown",
   "metadata": {},
   "source": [
    "### Mac OSX\n",
    "\n",
    "[Video tutorial](https://www.youtube.com/watch?v=TcSAln46u9U)\n",
    "\n",
    "1. Open http://continuum.io/downloads with your web browser.\n",
    "1. Download the `Python 3` installer for OS X.\n",
    "1. Install `Python 3` using all of the defaults for installation.\n",
    "\n",
    "---"
   ]
  },
  {
   "cell_type": "markdown",
   "metadata": {},
   "source": [
    "### Linux\n",
    "\n",
    "1. Open http://continuum.io/downloads with your web browser.\n",
    "1. Download the `Python 3` installer for Linux.\n",
    "1. Install `Python 3` using all of the defaults for installation. (Installation requires using the shell. If you aren't comfortable doing the installation yourself stop here and request help at the workshop.)\n",
    "1. Open a terminal window.\n",
    "1. Type:\n",
    "~~~\n",
    "bash Anaconda3-\n",
    "~~~\n",
    "and then press tab. The name of the file you just downloaded should appear.\n",
    "\n",
    "1. Press enter. You will follow the text-only prompts. When there is a colon at the bottom of the screen press the down arrow to move down through the text. Type yes and press enter to approve the license. Press enter to approve the default location for the files. Type yes and press enter to prepend Anaconda to your PATH (this makes the Anaconda distribution the default `Python`).\n",
    "\n",
    "---"
   ]
  },
  {
   "cell_type": "markdown",
   "metadata": {},
   "source": [
    "This installation tutorial is taken from [Software Carpentry](http://swcarpentry.github.io/workshop-template/#setup)"
   ]
  }
 ],
 "metadata": {
  "kernelspec": {
   "display_name": "Python 3",
   "language": "python",
   "name": "python3"
  },
  "language_info": {
   "codemirror_mode": {
    "name": "ipython",
    "version": 3
   },
   "file_extension": ".py",
   "mimetype": "text/x-python",
   "name": "python",
   "nbconvert_exporter": "python",
   "pygments_lexer": "ipython3",
   "version": "3.6.0"
  }
 },
 "nbformat": 4,
 "nbformat_minor": 2
}

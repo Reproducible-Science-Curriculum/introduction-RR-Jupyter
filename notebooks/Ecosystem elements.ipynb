{
 "cells": [
  {
   "cell_type": "markdown",
   "metadata": {},
   "source": [
    "# Ecosystem Diagram\n",
    "Generate ecosystem evocative diagram using `blockdiag`:\n",
    "\n",
    "http://blockdiag.com/en/blockdiag/demo.html\n"
   ]
  },
  {
   "cell_type": "raw",
   "metadata": {},
   "source": [
    "{\n",
    "   \"IPy kernel\" -> \"[Jupyter kernels]\";\n",
    "   \"R Kernel\" -> \"[Jupyter kernels]\";\n",
    "   \"Julia Kernel\" -> \"[Jupyter kernels]\";\n",
    "   \"... Kernel\" -> \"[Jupyter kernels]\";\n",
    "\n",
    "   \"[Jupyter kernels]\"->\"Jupyter Notebook\\n server\"\n",
    "   \"Jupyter Notebook\\n server\"->\"Notebook\"->\"Slides\"\n",
    "   \"Notebook\"->\"Dashboard\"\n",
    "   \"Notebook\"->\"Markdown / HTML\"\n",
    "   \"Notebook\"->\"PDF\"\n",
    "\n",
    "   \"[Jupyter kernels]\" -> \"nteract notebook\\n application\" ;\n",
    "\n",
    "   \"Jupyter Notebook\\n server\" -> \"Jupyterhub\" -> \"[Notebook User 1]\"\n",
    "    \"Jupyterhub\" -> \"[Notebook User 2]\"\n",
    "\n",
    "\n",
    "  \"[Jupyter kernels]\" -> \"Jupyter kernel\\n gateway\" ;\n",
    "   \"Jupyter kernel\\n gateway\"->\"Web dashboard\";\n",
    "   \"Jupyter kernel\\n gateway\"->\"Microservice / API\";\n",
    "}"
   ]
  },
  {
   "cell_type": "markdown",
   "metadata": {},
   "source": [
    "## Generating the Diagram in a Notebook.\n",
    "\n",
    "In an ideal world, we could generate this in a notebook... Gives an error for me..."
   ]
  },
  {
   "cell_type": "code",
   "execution_count": 6,
   "metadata": {
    "collapsed": false
   },
   "outputs": [
    {
     "name": "stdout",
     "output_type": "stream",
     "text": [
      "Collecting blockdiag\n",
      "  Downloading blockdiag-1.5.3-py2.py3-none-any.whl (2.7MB)\n",
      "\u001b[K    100% |████████████████████████████████| 2.7MB 487kB/s \n",
      "\u001b[?25hCollecting webcolors (from blockdiag)\n",
      "  Downloading webcolors-1.7.tar.gz\n",
      "Collecting funcparserlib (from blockdiag)\n",
      "  Downloading funcparserlib-0.3.6.tar.gz\n",
      "Requirement already satisfied (use --upgrade to upgrade): setuptools in /usr/local/lib/python3.5/site-packages (from blockdiag)\n",
      "Requirement already satisfied (use --upgrade to upgrade): Pillow in /usr/local/lib/python3.5/site-packages (from blockdiag)\n",
      "Building wheels for collected packages: webcolors, funcparserlib\n",
      "  Running setup.py bdist_wheel for webcolors ... \u001b[?25l-\b \b\\\b \bdone\n",
      "\u001b[?25h  Stored in directory: /Users/ajh59/Library/Caches/pip/wheels/4a/bb/ba/464319914f0bfb826beb0955bbb29d7188a18368ea226a758d\n",
      "  Running setup.py bdist_wheel for funcparserlib ... \u001b[?25l-\b \b\\\b \b|\b \b/\b \b-\b \bdone\n",
      "\u001b[?25h  Stored in directory: /Users/ajh59/Library/Caches/pip/wheels/cf/77/39/7940a5ce616295452200201f265fec292cb5dab48f7f404baf\n",
      "Successfully built webcolors funcparserlib\n",
      "Installing collected packages: webcolors, funcparserlib, blockdiag\n",
      "Successfully installed blockdiag-1.5.3 funcparserlib-0.3.6 webcolors-1.7\n",
      "\u001b[33mYou are using pip version 8.1.2, however version 9.0.1 is available.\n",
      "You should consider upgrading via the 'pip install --upgrade pip' command.\u001b[0m\n"
     ]
    }
   ],
   "source": [
    "!pip3 install blockdiag"
   ]
  },
  {
   "cell_type": "code",
   "execution_count": 7,
   "metadata": {
    "collapsed": false
   },
   "outputs": [
    {
     "name": "stderr",
     "output_type": "stream",
     "text": [
      "/usr/local/lib/python3.5/site-packages/IPython/core/magics/extension.py:47: UserWarning: %install_ext` is deprecated, please distribute your extension as a python package.\n",
      "  \"as a python package.\", UserWarning)\n"
     ]
    },
    {
     "name": "stdout",
     "output_type": "stream",
     "text": [
      "Installed diagmagic.py. To use it, type:\n",
      "  %load_ext diagmagic\n"
     ]
    }
   ],
   "source": [
    "%install_ext https://bitbucket.org/vladf/ipython-diags/raw/default/diagmagic.py"
   ]
  },
  {
   "cell_type": "code",
   "execution_count": 8,
   "metadata": {
    "collapsed": false
   },
   "outputs": [
    {
     "name": "stdout",
     "output_type": "stream",
     "text": [
      "The diagmagic extension is already loaded. To reload it, use:\n",
      "  %reload_ext diagmagic\n"
     ]
    }
   ],
   "source": [
    "%load_ext diagmagic"
   ]
  },
  {
   "cell_type": "code",
   "execution_count": 9,
   "metadata": {
    "collapsed": false
   },
   "outputs": [
    {
     "name": "stderr",
     "output_type": "stream",
     "text": [
      "Exception [Errno 2] No such file or directory: 'inkscape'\n"
     ]
    },
    {
     "ename": "TypeError",
     "evalue": "write() argument must be str, not bytes",
     "output_type": "error",
     "traceback": [
      "\u001b[0;31m---------------------------------------------------------------------------\u001b[0m",
      "\u001b[0;31mTypeError\u001b[0m                                 Traceback (most recent call last)",
      "\u001b[0;32m<ipython-input-9-ffe32bfcd9e8>\u001b[0m in \u001b[0;36m<module>\u001b[0;34m()\u001b[0m\n\u001b[0;32m----> 1\u001b[0;31m \u001b[0mget_ipython\u001b[0m\u001b[0;34m(\u001b[0m\u001b[0;34m)\u001b[0m\u001b[0;34m.\u001b[0m\u001b[0mrun_cell_magic\u001b[0m\u001b[0;34m(\u001b[0m\u001b[0;34m'blockdiag'\u001b[0m\u001b[0;34m,\u001b[0m \u001b[0;34m''\u001b[0m\u001b[0;34m,\u001b[0m \u001b[0;34m'{\\n   \"IPy kernel\" -> \"[Jupyter kernels]\";\\n   \"R Kernel\" -> \"[Jupyter kernels]\";\\n   \"Julia Kernel\" -> \"[Jupyter kernels]\";\\n   \"... Kernel\" -> \"[Jupyter kernels]\";\\n\\n   \"[Jupyter kernels]\"->\"Jupyter Notebook\\\\n server\"\\n   \"Jupyter Notebook\\\\n server\"->\"Notebook\"->\"Slides\"\\n   \"Notebook\"->\"Dashboard\"\\n   \"Notebook\"->\"Markdown / HTML\"\\n   \"Notebook\"->\"PDF\"\\n\\n   \"[Jupyter kernels]\" -> \"nteract notebook\\\\n application\" ;\\n\\n   \"Jupyter Notebook\\\\n server\" -> \"Jupyterhub\" -> \"[Notebook User 1]\"\\n    \"Jupyterhub\" -> \"[Notebook User 2]\"\\n\\n\\n  \"[Jupyter kernels]\" -> \"Jupyter kernel\\\\n gateway\" ;\\n   \"Jupyter kernel\\\\n gateway\"->\"Web dashboard\";\\n   \"Jupyter kernel\\\\n gateway\"->\"Microservice / API\";\\n}'\u001b[0m\u001b[0;34m)\u001b[0m\u001b[0;34m\u001b[0m\u001b[0m\n\u001b[0m",
      "\u001b[0;32m/usr/local/lib/python3.5/site-packages/IPython/core/interactiveshell.py\u001b[0m in \u001b[0;36mrun_cell_magic\u001b[0;34m(self, magic_name, line, cell)\u001b[0m\n\u001b[1;32m   2118\u001b[0m             \u001b[0mmagic_arg_s\u001b[0m \u001b[0;34m=\u001b[0m \u001b[0mself\u001b[0m\u001b[0;34m.\u001b[0m\u001b[0mvar_expand\u001b[0m\u001b[0;34m(\u001b[0m\u001b[0mline\u001b[0m\u001b[0;34m,\u001b[0m \u001b[0mstack_depth\u001b[0m\u001b[0;34m)\u001b[0m\u001b[0;34m\u001b[0m\u001b[0m\n\u001b[1;32m   2119\u001b[0m             \u001b[0;32mwith\u001b[0m \u001b[0mself\u001b[0m\u001b[0;34m.\u001b[0m\u001b[0mbuiltin_trap\u001b[0m\u001b[0;34m:\u001b[0m\u001b[0;34m\u001b[0m\u001b[0m\n\u001b[0;32m-> 2120\u001b[0;31m                 \u001b[0mresult\u001b[0m \u001b[0;34m=\u001b[0m \u001b[0mfn\u001b[0m\u001b[0;34m(\u001b[0m\u001b[0mmagic_arg_s\u001b[0m\u001b[0;34m,\u001b[0m \u001b[0mcell\u001b[0m\u001b[0;34m)\u001b[0m\u001b[0;34m\u001b[0m\u001b[0m\n\u001b[0m\u001b[1;32m   2121\u001b[0m             \u001b[0;32mreturn\u001b[0m \u001b[0mresult\u001b[0m\u001b[0;34m\u001b[0m\u001b[0m\n\u001b[1;32m   2122\u001b[0m \u001b[0;34m\u001b[0m\u001b[0m\n",
      "\u001b[0;32m<decorator-gen-125>\u001b[0m in \u001b[0;36mblockdiag\u001b[0;34m(self, line, cell)\u001b[0m\n",
      "\u001b[0;32m/usr/local/lib/python3.5/site-packages/IPython/core/magic.py\u001b[0m in \u001b[0;36m<lambda>\u001b[0;34m(f, *a, **k)\u001b[0m\n\u001b[1;32m    191\u001b[0m     \u001b[0;31m# but it's overkill for just that one bit of state.\u001b[0m\u001b[0;34m\u001b[0m\u001b[0;34m\u001b[0m\u001b[0m\n\u001b[1;32m    192\u001b[0m     \u001b[0;32mdef\u001b[0m \u001b[0mmagic_deco\u001b[0m\u001b[0;34m(\u001b[0m\u001b[0marg\u001b[0m\u001b[0;34m)\u001b[0m\u001b[0;34m:\u001b[0m\u001b[0;34m\u001b[0m\u001b[0m\n\u001b[0;32m--> 193\u001b[0;31m         \u001b[0mcall\u001b[0m \u001b[0;34m=\u001b[0m \u001b[0;32mlambda\u001b[0m \u001b[0mf\u001b[0m\u001b[0;34m,\u001b[0m \u001b[0;34m*\u001b[0m\u001b[0ma\u001b[0m\u001b[0;34m,\u001b[0m \u001b[0;34m**\u001b[0m\u001b[0mk\u001b[0m\u001b[0;34m:\u001b[0m \u001b[0mf\u001b[0m\u001b[0;34m(\u001b[0m\u001b[0;34m*\u001b[0m\u001b[0ma\u001b[0m\u001b[0;34m,\u001b[0m \u001b[0;34m**\u001b[0m\u001b[0mk\u001b[0m\u001b[0;34m)\u001b[0m\u001b[0;34m\u001b[0m\u001b[0m\n\u001b[0m\u001b[1;32m    194\u001b[0m \u001b[0;34m\u001b[0m\u001b[0m\n\u001b[1;32m    195\u001b[0m         \u001b[0;32mif\u001b[0m \u001b[0mcallable\u001b[0m\u001b[0;34m(\u001b[0m\u001b[0marg\u001b[0m\u001b[0;34m)\u001b[0m\u001b[0;34m:\u001b[0m\u001b[0;34m\u001b[0m\u001b[0m\n",
      "\u001b[0;32m/Users/ajh59/.ipython/extensions/diagmagic.py\u001b[0m in \u001b[0;36mblockdiag\u001b[0;34m(self, line, cell)\u001b[0m\n\u001b[1;32m    150\u001b[0m     \u001b[0;32mdef\u001b[0m \u001b[0mblockdiag\u001b[0m\u001b[0;34m(\u001b[0m\u001b[0mself\u001b[0m\u001b[0;34m,\u001b[0m \u001b[0mline\u001b[0m\u001b[0;34m,\u001b[0m \u001b[0mcell\u001b[0m\u001b[0;34m)\u001b[0m\u001b[0;34m:\u001b[0m\u001b[0;34m\u001b[0m\u001b[0m\n\u001b[1;32m    151\u001b[0m         \u001b[0;32mimport\u001b[0m \u001b[0mblockdiag\u001b[0m\u001b[0;34m.\u001b[0m\u001b[0mcommand\u001b[0m\u001b[0;34m\u001b[0m\u001b[0m\n\u001b[0;32m--> 152\u001b[0;31m         \u001b[0mself\u001b[0m\u001b[0;34m.\u001b[0m\u001b[0mdiag\u001b[0m\u001b[0;34m(\u001b[0m\u001b[0mline\u001b[0m\u001b[0;34m,\u001b[0m \u001b[0mcell\u001b[0m\u001b[0;34m,\u001b[0m \u001b[0mblockdiag\u001b[0m\u001b[0;34m.\u001b[0m\u001b[0mcommand\u001b[0m\u001b[0;34m)\u001b[0m\u001b[0;34m\u001b[0m\u001b[0m\n\u001b[0m\u001b[1;32m    153\u001b[0m \u001b[0;34m\u001b[0m\u001b[0m\n\u001b[1;32m    154\u001b[0m     \u001b[0;34m@\u001b[0m\u001b[0mcell_magic\u001b[0m\u001b[0;34m\u001b[0m\u001b[0m\n",
      "\u001b[0;32m/Users/ajh59/.ipython/extensions/diagmagic.py\u001b[0m in \u001b[0;36mdiag\u001b[0;34m(self, line, cell, command)\u001b[0m\n\u001b[1;32m     98\u001b[0m             \u001b[0mfd\u001b[0m\u001b[0;34m,\u001b[0m \u001b[0mdiag_name\u001b[0m \u001b[0;34m=\u001b[0m \u001b[0mtempfile\u001b[0m\u001b[0;34m.\u001b[0m\u001b[0mmkstemp\u001b[0m\u001b[0;34m(\u001b[0m\u001b[0mdir\u001b[0m\u001b[0;34m=\u001b[0m\u001b[0mtmpdir\u001b[0m\u001b[0;34m)\u001b[0m\u001b[0;34m\u001b[0m\u001b[0m\n\u001b[1;32m     99\u001b[0m             \u001b[0mf\u001b[0m \u001b[0;34m=\u001b[0m \u001b[0mos\u001b[0m\u001b[0;34m.\u001b[0m\u001b[0mfdopen\u001b[0m\u001b[0;34m(\u001b[0m\u001b[0mfd\u001b[0m\u001b[0;34m,\u001b[0m \u001b[0;34m\"w\"\u001b[0m\u001b[0;34m)\u001b[0m\u001b[0;34m\u001b[0m\u001b[0m\n\u001b[0;32m--> 100\u001b[0;31m             \u001b[0mf\u001b[0m\u001b[0;34m.\u001b[0m\u001b[0mwrite\u001b[0m\u001b[0;34m(\u001b[0m\u001b[0mcode\u001b[0m\u001b[0;34m.\u001b[0m\u001b[0mencode\u001b[0m\u001b[0;34m(\u001b[0m\u001b[0;34m'utf-8'\u001b[0m\u001b[0;34m)\u001b[0m\u001b[0;34m)\u001b[0m\u001b[0;34m\u001b[0m\u001b[0m\n\u001b[0m\u001b[1;32m    101\u001b[0m             \u001b[0mf\u001b[0m\u001b[0;34m.\u001b[0m\u001b[0mclose\u001b[0m\u001b[0;34m(\u001b[0m\u001b[0;34m)\u001b[0m\u001b[0;34m\u001b[0m\u001b[0m\n\u001b[1;32m    102\u001b[0m \u001b[0;34m\u001b[0m\u001b[0m\n",
      "\u001b[0;31mTypeError\u001b[0m: write() argument must be str, not bytes"
     ]
    }
   ],
   "source": [
    "%%blockdiag\n",
    "{\n",
    "   \"IPy kernel\" -> \"[Jupyter kernels]\";\n",
    "   \"R Kernel\" -> \"[Jupyter kernels]\";\n",
    "   \"Julia Kernel\" -> \"[Jupyter kernels]\";\n",
    "   \"... Kernel\" -> \"[Jupyter kernels]\";\n",
    "\n",
    "   \"[Jupyter kernels]\"->\"Jupyter Notebook\\n server\"\n",
    "   \"Jupyter Notebook\\n server\"->\"Notebook\"->\"Slides\"\n",
    "   \"Notebook\"->\"Dashboard\"\n",
    "   \"Notebook\"->\"Markdown / HTML\"\n",
    "   \"Notebook\"->\"PDF\"\n",
    "\n",
    "   \"[Jupyter kernels]\" -> \"nteract notebook\\n application\" ;\n",
    "\n",
    "   \"Jupyter Notebook\\n server\" -> \"Jupyterhub\" -> \"[Notebook User 1]\"\n",
    "    \"Jupyterhub\" -> \"[Notebook User 2]\"\n",
    "\n",
    "\n",
    "  \"[Jupyter kernels]\" -> \"Jupyter kernel\\n gateway\" ;\n",
    "   \"Jupyter kernel\\n gateway\"->\"Web dashboard\";\n",
    "   \"Jupyter kernel\\n gateway\"->\"Microservice / API\";\n",
    "}"
   ]
  },
  {
   "cell_type": "code",
   "execution_count": null,
   "metadata": {
    "collapsed": true
   },
   "outputs": [],
   "source": []
  }
 ],
 "metadata": {
  "kernelspec": {
   "display_name": "Python 3",
   "language": "python",
   "name": "python3"
  },
  "language_info": {
   "codemirror_mode": {
    "name": "ipython",
    "version": 3
   },
   "file_extension": ".py",
   "mimetype": "text/x-python",
   "name": "python",
   "nbconvert_exporter": "python",
   "pygments_lexer": "ipython3",
   "version": "3.5.1"
  },
  "widgets": {
   "state": {},
   "version": "1.1.2"
  }
 },
 "nbformat": 4,
 "nbformat_minor": 0
}

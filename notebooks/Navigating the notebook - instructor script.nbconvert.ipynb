{
 "cells": [
  {
   "cell_type": "markdown",
   "metadata": {
    "collapsed": true,
    "slideshow": {
     "slide_type": "-"
    }
   },
   "source": [
    "# Navigating the Notebook - Instructor Script"
   ]
  },
  {
   "cell_type": "markdown",
   "metadata": {
    "slideshow": {
     "slide_type": "-"
    }
   },
   "source": [
    "To familiarise participants with the notebook environment, build up a simple notebook from scratch demonstrating the following operations:\n",
    "\n",
    "- Insert & delete cells\n",
    "- Change cell type (& know different cell types)\n",
    "- Run a single cell from taskbar & keyboard shortcut (shift + Enter)\n",
    "- Run multiples cells, all cells\n",
    "- Re-order cells\n",
    "- Split & merge cells\n",
    "- Stop a cell "
   ]
  },
  {
   "cell_type": "markdown",
   "metadata": {
    "slideshow": {
     "slide_type": "-"
    }
   },
   "source": [
    "*Let's get started...*\n",
    "\n",
    "Create a new notebook..."
   ]
  },
  {
   "cell_type": "markdown",
   "metadata": {},
   "source": [
    "The notebook is built up from separate editable areas, or *cells*."
   ]
  },
  {
   "cell_type": "markdown",
   "metadata": {},
   "source": [
    "A new notebook contains a single *code* cell.\n",
    "\n",
    "Add a line of code and execute it by:\n",
    "- *clicking the run button*, or\n",
    "- click in the cell, and press `shift-return`"
   ]
  },
  {
   "cell_type": "code",
   "execution_count": null,
   "metadata": {
    "collapsed": false
   },
   "outputs": [],
   "source": [
    "print('hello world')"
   ]
  },
  {
   "cell_type": "markdown",
   "metadata": {},
   "source": [
    "## Navigating and Selecting Cells\n",
    "\n",
    "To select a cell, click on it. The selected cell will be surrounded by a box with the left hand side highlighted.\n",
    "\n",
    "Move the selection focus to the cell above/below using the keyboard up/down arrow keys.\n",
    "\n",
    "Additionally select adjacent cells using `SHIFT-UP ARROW` or `SHIFT-DOWN ARROW`."
   ]
  },
  {
   "cell_type": "markdown",
   "metadata": {},
   "source": [
    "## Managing Cells - Add, Delete, Reorder\n",
    "\n",
    "__Add__ a new cell to the notebook by:\n",
    " - click the + button on the toolbar\n",
    " - `Insert -> Insert Cell Above` or `ESC-A`\n",
    " - `Insert -> Insert Cell Below` or `ESC-B`\n",
    " \n",
    "__Delete__ a cell by selecting it and:\n",
    " - click the scissors button on the toolbar\n",
    " - `Edit -> Delete cells` or `ESC-X`\n",
    "\n",
    "__Undelete__ the last deleted cell:\n",
    "- `Edit -> Undo Delete cells` or `ESC-Z`\n",
    "\n",
    "Each cell has a __cell history__ associated with it. Use `CMD-Z` to step back through previous cell contents.\n",
    " \n",
    "__Reorder__ cells by:\n",
    "- moving them up and down the notebook using the up and down arrows on the toolbar\n",
    "- `Edit -> Move Cell Up` or `Edit -> Move Cell Down` \n",
    "- cutting and pasting them:\n",
    " - `Edit - >Cut` or `Edit->Paste Cells Above` or `Edit->Paste Cells Below`\n",
    " - on the toolbar, `Cut selected cells` then `Paste selected cells`\n",
    "\n",
    "You can also copy selected cells from the toolbar, `Edit -> Copy Cells` or `ESC-C`."
   ]
  },
  {
   "cell_type": "markdown",
   "metadata": {},
   "source": [
    "## Managing Cells - Merging and Splitting\n",
    "\n",
    "If a cell is overlong, you can split it at the cursor point: `Edit -> Split Cell`\n",
    "\n",
    "You can merge two cells that are next two each other. Select one cell and then `Edit -> Merge Cell Above` or  `Edit -> Merge Cell Below`.\n",
    "\n",
    "The cell type (markdown, code, etc) of the merged cell will be the same as the originally selected cell."
   ]
  },
  {
   "cell_type": "markdown",
   "metadata": {},
   "source": [
    "## Cell outputs\n",
    "\n",
    "If the last line of code produces an output, the output will be embedded in the notebook below the code cell:"
   ]
  },
  {
   "cell_type": "code",
   "execution_count": null,
   "metadata": {
    "collapsed": false
   },
   "outputs": [],
   "source": [
    "a=1\n",
    "b=2\n",
    "\n",
    "a+b"
   ]
  },
  {
   "cell_type": "markdown",
   "metadata": {},
   "source": [
    "## We Can Run a Cell to Multiple Times\n",
    "\n",
    "Each time the cell us run, the state of the underlying python process is updated, even if the visual display of other cells in the notebook is not."
   ]
  },
  {
   "cell_type": "code",
   "execution_count": null,
   "metadata": {
    "collapsed": false
   },
   "outputs": [],
   "source": [
    "print(a)"
   ]
  },
  {
   "cell_type": "code",
   "execution_count": null,
   "metadata": {
    "collapsed": false
   },
   "outputs": [],
   "source": [
    "#Run this cell multiple times\n",
    "a=a+1\n",
    "a"
   ]
  },
  {
   "cell_type": "markdown",
   "metadata": {},
   "source": [
    "## Code Libraries can be imported via a Code Cell"
   ]
  },
  {
   "cell_type": "code",
   "execution_count": null,
   "metadata": {
    "collapsed": false
   },
   "outputs": [],
   "source": [
    "import numpy as np\n",
    "\n",
    "np.pi"
   ]
  },
  {
   "cell_type": "markdown",
   "metadata": {},
   "source": [
    "# Clearing Cell Outputs\n",
    "\n",
    "Clear the output of a selected cell: `Cell -> Current Output -> Clear`\n",
    "\n",
    "Clear the output of all cells in the notebook:  `Cell -> All Output -> Clear`\n",
    "\n",
    "Note the the state of the underlying kernel __will not__ be affected - only the rendered display in the notebook."
   ]
  },
  {
   "cell_type": "markdown",
   "metadata": {},
   "source": [
    "# Expanding the narrative - Markdown Cells\n",
    "\n",
    "As well as code cells, we can have cells that contain narrative text.\n",
    "\n",
    "Change the cell type using the drop down list in the toolbar, or by using the `ESC-M` keyboard shortcut.\n",
    "\n",
    "To \"open\" or select a markdown cell for editing, double click the cell.\n",
    "\n",
    "View the rendered markdown by running the cell:\n",
    "- hit the play button on the toolbar\n",
    "- use the `SHIFT-RETURN` keyboard shortcut."
   ]
  },
  {
   "cell_type": "markdown",
   "metadata": {},
   "source": [
    "# Markdown cells can contain formatted headings\n",
    "\n",
    "Prefix a line of text in a markdown cell by one or more # signs, *followed by a space*, to specify the level of the heading required.\n",
    "\n",
    "````\n",
    "# Heading 1\n",
    "## Heading 2\n",
    "...\n",
    "###### Heading 6\n",
    "````"
   ]
  },
  {
   "cell_type": "markdown",
   "metadata": {},
   "source": [
    "## Markdown cells can contain formatted text inline\n",
    "\n",
    "Prefix a heading with one or more # signs, followed by a space.\n",
    "\n",
    "*Emphasise* a word or phrase by wrapping it (no spaces!) with a single * on either side.\n",
    "\n",
    "__Strongly emphasise__ a word or phrase by wrapping it (no spaces!) with two underscores, __, either side."
   ]
  },
  {
   "cell_type": "markdown",
   "metadata": {},
   "source": [
    "## Markdown cells can contain lists\n",
    "Create an unnumbered list by prefixing each list item with a -, followed by a space, with each list item on a separate line:\n",
    "- list item 1\n",
    "- list item 2\n",
    "\n",
    "Create a number list by prefixing each list item with a number, followed by a ., followed by a space, with each list item on a separate line:\n",
    "1. numbered item 1\n",
    "2. numbered item 2\n",
    "\n",
    "Add sublists by indenting sublisted items with a space:\n",
    "- list item\n",
    " - sublist item"
   ]
  },
  {
   "cell_type": "markdown",
   "metadata": {},
   "source": [
    "## Markdown cells can contain embedded links and images\n",
    "\n",
    "Add a link using the following pattern: `[link text](URL_or_relative_path)`\n",
    "\n",
    "For example, `[Data Carpentry](https://datacarpentry.org)` gives the clickable link: [Data Carpentry](https://datacarpentry.org).\n",
    "\n",
    "Add an image using the following pattern: `[image alt text](URL_or_path)`\n",
    "\n",
    "For example, `[Jupyter logo](./jupyter-logo.png)` embeds the following image: ![Jupyter logo](./jupyter-logo.png)"
   ]
  },
  {
   "cell_type": "markdown",
   "metadata": {},
   "source": [
    "## Markdown cells can contain inline styled (non-executable) code\n",
    "\n",
    "Style inline code by including the code in backticks:  *\\`code style\\`* gives `code style` inline.\n",
    "\n",
    "Create a block of code by wrapping it at the start and end with four backticks:\n",
    "\n",
    "````\n",
    "def mycode():\n",
    "    ''' Here is my non-executable code '''\n",
    "    pass\n",
    "````"
   ]
  },
  {
   "cell_type": "markdown",
   "metadata": {},
   "source": [
    "## Markdown cells can include Latex Expressions\n",
    "\n",
    "Mathematical expessions can be rendered inline by wrapping a LaTeX expression (no spaces) with a $ either side.\n",
    "\n",
    "For example, `$e^x=\\sum_{i=0}^\\infty \\frac{1}{i!}x^i$` is rendered as the inline $e^x=\\sum_{i=0}^\\infty \\frac{1}{i!}x^i$ expression.\n",
    "\n",
    "Wrapping the expression with `$$` either side forces it to be rendered on a new line in the centre of the cell: $$e^x=\\sum_{i=0}^\\infty \\frac{1}{i!}x^i$$"
   ]
  },
  {
   "cell_type": "markdown",
   "metadata": {},
   "source": [
    "## Working Code Cells Harder\n",
    "\n",
    "As well as running code in the kernel, code cells can be used in a couple of other ways.\n",
    "\n",
    "### As a command prompt:\n",
    "- as a route to the command line on the desktop of the machine the Jupyter server is running on:\n",
    " - start the code cell with a ! and then enter you command line command.\n",
    " - eg Mac/Linux: `!pwd`\n",
    " - eg WIndows: `!cd`\n",
    " \n",
    "### Cell magic:\n",
    "\n",
    "IPython has a notion of cell magics, commands prefixed by a % or %% that run a particular command or wrap content of the cell in some way before executing it.\n",
    "\n",
    "- `%matplotlib inline`: enable the inline display of matplotlib generated graphics\n",
    "- `%whos`: display a list of variables and their values as set in the kernel\n",
    "- `%env`: display a list of environment variables and their current values in the host environment."
   ]
  },
  {
   "cell_type": "markdown",
   "metadata": {},
   "source": [
    "## Code cells can produce rich output too\n",
    "\n",
    "Cell outputs can include tables and images"
   ]
  },
  {
   "cell_type": "code",
   "execution_count": null,
   "metadata": {
    "collapsed": false
   },
   "outputs": [],
   "source": [
    "import pandas as pd\n",
    "\n",
    "pd.DataFrame({'col1':[1,2],'col2':['x','y']})"
   ]
  },
  {
   "cell_type": "code",
   "execution_count": null,
   "metadata": {
    "collapsed": false
   },
   "outputs": [],
   "source": [
    "%matplotlib inline\n",
    "\n",
    "import matplotlib.pyplot as plt\n",
    "\n",
    "# Create 1000 evenly-spaced values from 0 to 2 pi\n",
    "x = np.linspace(0, 2*np.pi, 1000)  \n",
    "\n",
    "#Plot a sine wave over those values\n",
    "y = np.sin(x)\n",
    "\n",
    "plt.plot(x, y)\n",
    "\n",
    "#You can prevent the display of object details returned from the plot by:\n",
    "## - adding a semi-colon (;) at the end of the final statement"
   ]
  },
  {
   "cell_type": "markdown",
   "metadata": {},
   "source": [
    "## Notebooks Can be Support Interactive Widgets that Help You Explore a Dataset\n",
    "\n",
    "If you reate a function that accepts one or more parameters, you may be able to use it as the basis of an automatically generated application.\n",
    "\n",
    "For example, suppose we have a function that will plot a sine wave over the range 0..2 pi for a specified frequency, passed into the function as a parameter:"
   ]
  },
  {
   "cell_type": "code",
   "execution_count": null,
   "metadata": {
    "collapsed": false
   },
   "outputs": [],
   "source": [
    "#If no frequency value is specified, use the default setting: f=1\n",
    "\n",
    "def sinplot(f=1):\n",
    "    #Define a range of x values\n",
    "    x = np.linspace(0, 2*np.pi, 1000)  \n",
    "\n",
    "    #Plot a sine wave with the specified frequency over that range\n",
    "    y = np.sin(f*x)\n",
    "\n",
    "    #Plot the chart\n",
    "    plt.plot(x, y)\n",
    "    \n",
    "sinplot(f=3)"
   ]
  },
  {
   "cell_type": "markdown",
   "metadata": {},
   "source": [
    "## Using ipywidgets `interact()`\n",
    "\n",
    "Pass the name of your function, and the default values of the parameters, to the *ipywidgets* `interact()` function to automatically create interactive widgets to control the parameter values."
   ]
  },
  {
   "cell_type": "code",
   "execution_count": null,
   "metadata": {
    "collapsed": false
   },
   "outputs": [],
   "source": [
    "from ipywidgets import interact\n",
    "\n",
    "interact(sinplot, f=5)"
   ]
  },
  {
   "cell_type": "markdown",
   "metadata": {},
   "source": [
    "## Specify the Range of Values Applied to an `interact()` slider\n",
    "\n",
    "Passing in a single number associated with a numerical parameter sets the default (mid-point) of a slider range. Passing in two values sets the range.\n",
    "\n",
    "The defualt value will be the default value set in the function definition."
   ]
  },
  {
   "cell_type": "code",
   "execution_count": null,
   "metadata": {
    "collapsed": false
   },
   "outputs": [],
   "source": [
    "interact(sinplot, f=[0,20])"
   ]
  },
  {
   "cell_type": "markdown",
   "metadata": {},
   "source": [
    "## Specify the Step Size of a Slider\n",
    "\n",
    "Passing three values in as a list for a numerical parameter, and they define the minumim, maximum and step size values for the slider."
   ]
  },
  {
   "cell_type": "code",
   "execution_count": null,
   "metadata": {
    "collapsed": false
   },
   "outputs": [],
   "source": [
    "interact(sinplot, f=[0,20,5])"
   ]
  },
  {
   "cell_type": "markdown",
   "metadata": {
    "collapsed": true
   },
   "source": [
    "## Navigating Inside a Notebook - Deep Links and Code Line Numbers\n",
    "\n",
    "HTML code an also be included in a markdown cell. Adding an empty anchor tag allows you to create named anchor links that can act as deeplinks into particular parts of the notebook:\n",
    "\n",
    "`<a name='navigation'></a>`\n",
    "\n",
    "Create a complementary relative link to that section in the same notebook:\n",
    "\n",
    "`[Relative link to \"Navigation\" section](#navigation)`\n",
    "\n",
    "Create a link to a similarly anchor named section in different notebook:\n",
    "\n",
    "`[Deeplink into another notebook](http://example.com/example.ipynb#navigation)`\n",
    "\n",
    "To reference lines of code more exactly, toggle line numbering off and on within a cell using: `ESC-L`"
   ]
  },
  {
   "cell_type": "markdown",
   "metadata": {},
   "source": [
    "# Running Multiple Code Cells\n",
    "\n",
    "As well as running one code cell at a time, you can run multiple cells:\n",
    "\n",
    "- `Cells -> Run All Above`\n",
    "- `Cells -> Run All Below`\n",
    "- `Cells -> Run All`\n",
    "\n",
    "Note that this will run cells taking into account the current state of the underlying kernel."
   ]
  },
  {
   "cell_type": "markdown",
   "metadata": {},
   "source": [
    "# Saving, Checkpointing and Reverting the Notebook\n",
    "\n",
    "The notebook wil autosave every few minutes.\n",
    "\n",
    "You can also create a checkpoint using the floppy/save icon on the toolbar or `File -> Save and Checkpoint`.\n",
    "\n",
    "You can revert the notebook to a saved checkpoint using `File -> Revert to Saved Checkpoint`."
   ]
  },
  {
   "cell_type": "markdown",
   "metadata": {},
   "source": [
    "# Checking Reproducibility\n",
    "\n",
    "One of the aims of using notebooks is to produce an executable document that can be rerun to reproduce the results.\n",
    "\n",
    "To run cells from scratch (i.e. from a fresh kernel), `Kernel -> Restart and Clear Output` and then run the cells you want.\n",
    "\n",
    "To run all the cells in the notebook from scratch: `Kernel -> Restart and Run All`"
   ]
  },
  {
   "cell_type": "markdown",
   "metadata": {},
   "source": [
    "# Troubleshooting - Permanently Running Cells\n",
    "\n",
    "Code cells that are running (or queued for running) display an asterisk in the cell `In []` indicator.\n",
    "\n",
    "To stop execution of a running cell (and prevent queued cells from executing):\n",
    "- press the stop button on the toolbar\n",
    "- `Kernel -> Interrupt`\n",
    "\n",
    "If the notebook is still hanging, you may need to restart the kernel:  `Kernel -> Restart`"
   ]
  },
  {
   "cell_type": "markdown",
   "metadata": {},
   "source": [
    "# Troubleshooting - Getting Help\n",
    "\n",
    "Code cells support autocomplete - so start typing and then tab to see what options are available...\n",
    "\n",
    "Access documentation for a function - add a `?` and run the cell: `pd.DataFrame?`"
   ]
  }
 ],
 "metadata": {
  "kernelspec": {
   "display_name": "Python 3",
   "language": "python",
   "name": "python3"
  },
  "language_info": {
   "codemirror_mode": {
    "name": "ipython",
    "version": 3
   },
   "file_extension": ".py",
   "mimetype": "text/x-python",
   "name": "python",
   "nbconvert_exporter": "python",
   "pygments_lexer": "ipython3",
   "version": "3.5.1"
  },
  "widgets": {
   "state": {
    "4e363d6178bc43748cec1441d173d2e1": {
     "views": []
    },
    "4eb72cbe42274189bae8c770092f04d2": {
     "views": [
      {
       "cell_index": 28
      }
     ]
    },
    "5207100e165949b2a442626b21e8117a": {
     "views": []
    },
    "61fad98c2e74472d9db556b482fce520": {
     "views": []
    },
    "62020bfa28a14bf3b06e2f2e5dc52b9c": {
     "views": []
    },
    "71706e7633e943a6869dfc41b4a5ccb4": {
     "views": [
      {
       "cell_index": 30
      }
     ]
    },
    "72c3a53bb9904d8f9fbc6ac878f300ce": {
     "views": []
    },
    "739549a3ce374b5bb37ab65e04627121": {
     "views": [
      {
       "cell_index": 26
      }
     ]
    },
    "88a1751fd7ae479392a065e9ea4d1285": {
     "views": []
    },
    "8a1134743c3d41e8966cf0a1ec563277": {
     "views": []
    },
    "b69b96ed8ec74b6ea0f6274d0cae37eb": {
     "views": []
    },
    "cb2c4cbba63d4c4ca11b3898fa0ffa6c": {
     "views": []
    }
   },
   "version": "1.1.2"
  }
 },
 "nbformat": 4,
 "nbformat_minor": 0
}
